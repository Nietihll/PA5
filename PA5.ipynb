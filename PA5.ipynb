{
 "cells": [
  {
   "cell_type": "code",
   "execution_count": 68,
   "id": "f4c15b0b",
   "metadata": {},
   "outputs": [
    {
     "name": "stdout",
     "output_type": "stream",
     "text": [
      " cat\n"
     ]
    },
    {
     "data": {
      "text/plain": [
       "'neko'"
      ]
     },
     "execution_count": 68,
     "metadata": {},
     "output_type": "execute_result"
    }
   ],
   "source": [
    "trans={'cat' : 'neko',\n",
    "      'dog': 'inu',\n",
    "       'mountain' :'yama',\n",
    "      'fish' : 'sakana'}\n",
    "trans.get(input('Please input a word in English and it will translate to Japanese: '))"
   ]
  },
  {
   "cell_type": "code",
   "execution_count": null,
   "id": "c13a2df2",
   "metadata": {},
   "outputs": [],
   "source": [
    "trans.get(input('Please input a word in English and it will translate to Japanese: '))"
   ]
  },
  {
   "cell_type": "markdown",
   "id": "cb2ab3e0",
   "metadata": {},
   "source": [
    ".isdisjoint checks if two sets or dicts are the same"
   ]
  },
  {
   "cell_type": "code",
   "execution_count": 72,
   "id": "70e1da45",
   "metadata": {},
   "outputs": [
    {
     "data": {
      "text/plain": [
       "False"
      ]
     },
     "execution_count": 72,
     "metadata": {},
     "output_type": "execute_result"
    }
   ],
   "source": [
    "SetA={2,5,3,7,8}\n",
    "SetB={2,5,4,7,8,34,56,78,7,5}\n",
    "SetA.isdisjoint(SetB)"
   ]
  },
  {
   "cell_type": "markdown",
   "id": "d60b64bb",
   "metadata": {},
   "source": [
    "symmetric difference checks for variables that are not in both sets"
   ]
  },
  {
   "cell_type": "code",
   "execution_count": 53,
   "id": "99b4dc58",
   "metadata": {},
   "outputs": [
    {
     "data": {
      "text/plain": [
       "{'a', 'b', 'e'}"
      ]
     },
     "execution_count": 53,
     "metadata": {},
     "output_type": "execute_result"
    }
   ],
   "source": [
    "A = {'a', 'b', 'c', 'd'}\n",
    "B = {'c', 'd', 'e' }\n",
    "A^B"
   ]
  },
  {
   "cell_type": "markdown",
   "id": "a30ec668",
   "metadata": {},
   "source": [
    "intersection update removes variables not in both sets"
   ]
  },
  {
   "cell_type": "code",
   "execution_count": 73,
   "id": "79f1ddc6",
   "metadata": {},
   "outputs": [
    {
     "name": "stdout",
     "output_type": "stream",
     "text": [
      "{8, 2, 5, 7}\n"
     ]
    }
   ],
   "source": [
    "SetA&=SetB\n",
    "print(SetA)"
   ]
  },
  {
   "cell_type": "markdown",
   "id": "30249c10",
   "metadata": {},
   "source": [
    "remove(), discard(), pop(), removes a variables from a set or dict. Pop also only removes the first variable"
   ]
  },
  {
   "cell_type": "code",
   "execution_count": 84,
   "id": "7ab4dc2c",
   "metadata": {},
   "outputs": [
    {
     "name": "stdout",
     "output_type": "stream",
     "text": [
      "{2, 3, 7, 8}\n"
     ]
    }
   ],
   "source": [
    "SetA={2,5,3,7,8}\n",
    "SetB={2,5,4,7,8,34,56,78,7,5}\n",
    "SetA.remove(5)\n",
    "print(SetA)\n"
   ]
  },
  {
   "cell_type": "code",
   "execution_count": 85,
   "id": "f0c8ca9b",
   "metadata": {},
   "outputs": [
    {
     "name": "stdout",
     "output_type": "stream",
     "text": [
      "{2, 3, 7}\n"
     ]
    }
   ],
   "source": [
    "SetA.discard(8)\n",
    "print(SetA)"
   ]
  },
  {
   "cell_type": "code",
   "execution_count": 86,
   "id": "ab36b557",
   "metadata": {},
   "outputs": [
    {
     "name": "stdout",
     "output_type": "stream",
     "text": [
      "{3, 7}\n"
     ]
    }
   ],
   "source": [
    "SetA.pop()\n",
    "print(SetA)"
   ]
  },
  {
   "cell_type": "code",
   "execution_count": null,
   "id": "ddc795fe",
   "metadata": {},
   "outputs": [],
   "source": []
  }
 ],
 "metadata": {
  "kernelspec": {
   "display_name": "Python 3",
   "language": "python",
   "name": "python3"
  },
  "language_info": {
   "codemirror_mode": {
    "name": "ipython",
    "version": 3
   },
   "file_extension": ".py",
   "mimetype": "text/x-python",
   "name": "python",
   "nbconvert_exporter": "python",
   "pygments_lexer": "ipython3",
   "version": "3.8.8"
  }
 },
 "nbformat": 4,
 "nbformat_minor": 5
}
